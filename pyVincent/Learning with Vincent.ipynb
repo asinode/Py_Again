{
 "cells": [
  {
   "cell_type": "markdown",
   "metadata": {},
   "source": [
    "# Learning Python with Vincent\n",
    "## And many other things to come yet ;-)"
   ]
  },
  {
   "cell_type": "markdown",
   "metadata": {},
   "source": [
    "*Date: Sat Sep 10 13:16:48 IST 2016*"
   ]
  },
  {
   "cell_type": "markdown",
   "metadata": {},
   "source": [
    "<hr>"
   ]
  },
  {
   "cell_type": "markdown",
   "metadata": {},
   "source": [
    "## Exercise-1: Simple Sorting"
   ]
  },
  {
   "cell_type": "markdown",
   "metadata": {},
   "source": [
    "The logic is this.\n",
    "\n",
    "- Take a few numbers from the user.\n",
    "- Put them in a list.\n",
    "- Sort them without using builtin methods like 'sort' and all, that is, put them in ascending order."
   ]
  },
  {
   "cell_type": "code",
   "execution_count": 1,
   "metadata": {
    "collapsed": true
   },
   "outputs": [],
   "source": [
    "list = []"
   ]
  },
  {
   "cell_type": "code",
   "execution_count": 2,
   "metadata": {
    "collapsed": false
   },
   "outputs": [
    {
     "name": "stdout",
     "output_type": "stream",
     "text": [
      "Enter a number: 10\n",
      "Enter a number: 20\n",
      "Enter a number: 15\n",
      "Enter a number: 12\n",
      "Enter a number: 5\n"
     ]
    }
   ],
   "source": [
    "for i in range(5):\n",
    "    list.append(input(\"Enter a number: \"))"
   ]
  },
  {
   "cell_type": "code",
   "execution_count": 3,
   "metadata": {
    "collapsed": false
   },
   "outputs": [
    {
     "data": {
      "text/plain": [
       "[10, 20, 15, 12, 5]"
      ]
     },
     "execution_count": 3,
     "metadata": {},
     "output_type": "execute_result"
    }
   ],
   "source": [
    "list"
   ]
  },
  {
   "cell_type": "code",
   "execution_count": 4,
   "metadata": {
    "collapsed": false
   },
   "outputs": [
    {
     "name": "stdout",
     "output_type": "stream",
     "text": [
      "10\n",
      "20\n",
      "15\n",
      "12\n",
      "5\n"
     ]
    }
   ],
   "source": [
    "for number in list:\n",
    "    print number"
   ]
  },
  {
   "cell_type": "code",
   "execution_count": 15,
   "metadata": {
    "collapsed": false
   },
   "outputs": [
    {
     "ename": "TypeError",
     "evalue": "'type' object is not iterable",
     "output_type": "error",
     "traceback": [
      "\u001b[1;31m---------------------------------------------------------------------------\u001b[0m",
      "\u001b[1;31mTypeError\u001b[0m                                 Traceback (most recent call last)",
      "\u001b[1;32m<ipython-input-15-0c7b776b21ee>\u001b[0m in \u001b[0;36m<module>\u001b[1;34m()\u001b[0m\n\u001b[1;32m----> 1\u001b[1;33m \u001b[1;32mfor\u001b[0m \u001b[0mnumber\u001b[0m \u001b[1;32min\u001b[0m \u001b[0mlist\u001b[0m\u001b[1;33m:\u001b[0m\u001b[1;33m\u001b[0m\u001b[0m\n\u001b[0m\u001b[0;32m      2\u001b[0m     \u001b[1;32mfor\u001b[0m \u001b[0mi\u001b[0m \u001b[1;32min\u001b[0m \u001b[0mlist\u001b[0m\u001b[1;33m:\u001b[0m\u001b[1;33m\u001b[0m\u001b[0m\n\u001b[0;32m      3\u001b[0m         \u001b[1;32mif\u001b[0m \u001b[0mlist\u001b[0m\u001b[1;33m[\u001b[0m\u001b[0mi\u001b[0m\u001b[1;33m]\u001b[0m \u001b[1;33m>\u001b[0m \u001b[0mlist\u001b[0m\u001b[1;33m[\u001b[0m\u001b[0mi\u001b[0m\u001b[1;33m+\u001b[0m\u001b[1;36m1\u001b[0m\u001b[1;33m]\u001b[0m\u001b[1;33m:\u001b[0m\u001b[1;33m\u001b[0m\u001b[0m\n\u001b[0;32m      4\u001b[0m             \u001b[0mi\u001b[0m \u001b[1;33m=\u001b[0m \u001b[0mi\u001b[0m\u001b[1;33m+\u001b[0m\u001b[1;36m1\u001b[0m\u001b[1;33m\u001b[0m\u001b[0m\n\u001b[0;32m      5\u001b[0m             \u001b[1;32mprint\u001b[0m \u001b[0mnumber\u001b[0m\u001b[1;33m,\u001b[0m \u001b[0mlist\u001b[0m\u001b[1;33m[\u001b[0m\u001b[0mi\u001b[0m\u001b[1;33m]\u001b[0m\u001b[1;33m\u001b[0m\u001b[0m\n",
      "\u001b[1;31mTypeError\u001b[0m: 'type' object is not iterable"
     ]
    }
   ],
   "source": [
    "for number in list:\n",
    "    for i in list:\n",
    "        if list[i] > list[i+1]:\n",
    "            i = i+1\n",
    "            print number, list[i]"
   ]
  },
  {
   "cell_type": "code",
   "execution_count": 22,
   "metadata": {
    "collapsed": false
   },
   "outputs": [
    {
     "data": {
      "text/plain": [
       "False"
      ]
     },
     "execution_count": 22,
     "metadata": {},
     "output_type": "execute_result"
    }
   ],
   "source": [
    "list[0] > list[1]"
   ]
  },
  {
   "cell_type": "code",
   "execution_count": 19,
   "metadata": {
    "collapsed": false
   },
   "outputs": [
    {
     "ename": "IndexError",
     "evalue": "list index out of range",
     "output_type": "error",
     "traceback": [
      "\u001b[1;31m---------------------------------------------------------------------------\u001b[0m",
      "\u001b[1;31mIndexError\u001b[0m                                Traceback (most recent call last)",
      "\u001b[1;32m<ipython-input-19-0f73ba62526a>\u001b[0m in \u001b[0;36m<module>\u001b[1;34m()\u001b[0m\n\u001b[0;32m      1\u001b[0m \u001b[1;32mfor\u001b[0m \u001b[0mi\u001b[0m \u001b[1;32min\u001b[0m \u001b[0mlist\u001b[0m\u001b[1;33m:\u001b[0m\u001b[1;33m\u001b[0m\u001b[0m\n\u001b[1;32m----> 2\u001b[1;33m     \u001b[0mlist\u001b[0m\u001b[1;33m[\u001b[0m\u001b[0mi\u001b[0m\u001b[1;33m]\u001b[0m \u001b[1;33m>\u001b[0m \u001b[0mlist\u001b[0m\u001b[1;33m[\u001b[0m\u001b[0mi\u001b[0m\u001b[1;33m+\u001b[0m\u001b[1;36m1\u001b[0m\u001b[1;33m]\u001b[0m\u001b[1;33m\u001b[0m\u001b[0m\n\u001b[0m",
      "\u001b[1;31mIndexError\u001b[0m: list index out of range"
     ]
    }
   ],
   "source": [
    "for i in list:\n",
    "    list[i] > list[i+1]"
   ]
  },
  {
   "cell_type": "markdown",
   "metadata": {},
   "source": [
    "### After first explanation of logic"
   ]
  },
  {
   "cell_type": "code",
   "execution_count": 6,
   "metadata": {
    "collapsed": false
   },
   "outputs": [
    {
     "ename": "TypeError",
     "evalue": "'type' object is not iterable",
     "output_type": "error",
     "traceback": [
      "\u001b[1;31m---------------------------------------------------------------------------\u001b[0m",
      "\u001b[1;31mTypeError\u001b[0m                                 Traceback (most recent call last)",
      "\u001b[1;32m<ipython-input-6-fbdc27820659>\u001b[0m in \u001b[0;36m<module>\u001b[1;34m()\u001b[0m\n\u001b[1;32m----> 1\u001b[1;33m \u001b[1;32mfor\u001b[0m \u001b[0mi\u001b[0m \u001b[1;32min\u001b[0m \u001b[0menumerate\u001b[0m\u001b[1;33m(\u001b[0m\u001b[0mlist\u001b[0m\u001b[1;33m)\u001b[0m\u001b[1;33m:\u001b[0m\u001b[1;33m\u001b[0m\u001b[0m\n\u001b[0m\u001b[0;32m      2\u001b[0m     \u001b[1;31m# use insert() command\u001b[0m\u001b[1;33m\u001b[0m\u001b[1;33m\u001b[0m\u001b[0m\n\u001b[0;32m      3\u001b[0m     \u001b[1;32mif\u001b[0m \u001b[0mlist\u001b[0m\u001b[1;33m[\u001b[0m\u001b[0mi\u001b[0m\u001b[1;33m+\u001b[0m\u001b[1;36m1\u001b[0m\u001b[1;33m]\u001b[0m \u001b[1;33m>\u001b[0m \u001b[0mlist\u001b[0m\u001b[1;33m[\u001b[0m\u001b[0mi\u001b[0m\u001b[1;33m]\u001b[0m\u001b[1;33m:\u001b[0m\u001b[1;33m\u001b[0m\u001b[0m\n\u001b[0;32m      4\u001b[0m         \u001b[0mlist\u001b[0m\u001b[1;33m.\u001b[0m\u001b[0minsert\u001b[0m\u001b[1;33m(\u001b[0m\u001b[0mi\u001b[0m\u001b[1;33m,\u001b[0m \u001b[0mlist\u001b[0m\u001b[1;33m.\u001b[0m\u001b[0mpop\u001b[0m\u001b[1;33m(\u001b[0m\u001b[0mi\u001b[0m\u001b[1;33m+\u001b[0m\u001b[1;36m1\u001b[0m\u001b[1;33m)\u001b[0m\u001b[1;33m)\u001b[0m\u001b[1;33m\u001b[0m\u001b[0m\n",
      "\u001b[1;31mTypeError\u001b[0m: 'type' object is not iterable"
     ]
    }
   ],
   "source": [
    "for i in enumerate(list):\n",
    "    # use insert() command\n",
    "    if list[i+1] > list[i]:\n",
    "        list.insert(i, list.pop(i+1))"
   ]
  },
  {
   "cell_type": "code",
   "execution_count": 7,
   "metadata": {
    "collapsed": false
   },
   "outputs": [
    {
     "name": "stdout",
     "output_type": "stream",
     "text": [
      "0 8\n",
      "1 23\n",
      "2 45\n",
      "3 12\n",
      "4 78\n"
     ]
    }
   ],
   "source": [
    "# Checking if enumerate can be used with an example:\n",
    "ints = [8, 23, 45, 12, 78]\n",
    "for index, value in enumerate(ints):\n",
    "    print index, value"
   ]
  },
  {
   "cell_type": "markdown",
   "metadata": {},
   "source": [
    "Nope! `enumerate` cannot be used. "
   ]
  },
  {
   "cell_type": "code",
   "execution_count": 8,
   "metadata": {
    "collapsed": false
   },
   "outputs": [
    {
     "name": "stdout",
     "output_type": "stream",
     "text": [
      "[-23, -6, -5, 0, 5, 23, 23, 67]\n"
     ]
    }
   ],
   "source": [
    "# One more reference from other sources:\n",
    "data_list = [-5, -23, 5, 0, 23, -6, 23, 67]\n",
    "new_list = []\n",
    "\n",
    "while data_list:\n",
    "    minimum = data_list[0]  # arbitrary number in list \n",
    "    for x in data_list: \n",
    "        if x < minimum:\n",
    "            minimum = x\n",
    "    new_list.append(minimum)\n",
    "    data_list.remove(minimum)    \n",
    "\n",
    "print new_list"
   ]
  },
  {
   "cell_type": "code",
   "execution_count": 15,
   "metadata": {
    "collapsed": false
   },
   "outputs": [
    {
     "name": "stdout",
     "output_type": "stream",
     "text": [
      "Enter a number: 10\n",
      "Enter a number: 20\n",
      "Enter a number: 15\n",
      "Enter a number: 12\n",
      "Enter a number: 5\n",
      "[]\n",
      "[5, 10, 12, 15, 20]\n"
     ]
    }
   ],
   "source": [
    "# Therefore, the final solution is:\n",
    "list = []\n",
    "for i in range(5):\n",
    "    list.append(input(\"Enter a number: \"))\n",
    "\n",
    "new_list = []\n",
    "\n",
    "while list:\n",
    "    temp = list[0]  # arbitrary number in list \n",
    "    for x in list: \n",
    "        if x < temp:\n",
    "            temp = x\n",
    "    new_list.append(temp)\n",
    "    list.remove(temp)    \n",
    "\n",
    "print list\n",
    "print new_list"
   ]
  },
  {
   "cell_type": "markdown",
   "metadata": {},
   "source": [
    "But the above solution is emptying my list. If it is not emptied, the loop gets to infinity. Although not so technical and sophisticated, the only thing I can do for now is to create another list with the same elements."
   ]
  },
  {
   "cell_type": "code",
   "execution_count": 25,
   "metadata": {
    "collapsed": false
   },
   "outputs": [
    {
     "name": "stdout",
     "output_type": "stream",
     "text": [
      "Enter a number: 10\n",
      "Enter a number: 20\n",
      "Enter a number: 15\n",
      "Enter a number: 12\n",
      "Enter a number: 5\n",
      "The Unsorted List elements are:  [10, 20, 15, 12, 5]\n",
      "The Sorted List elements are:  [5, 10, 12, 15, 20]\n"
     ]
    }
   ],
   "source": [
    "# THE END\n",
    "list = []\n",
    "for i in range(5):\n",
    "    list.append(input(\"Enter a number: \"))\n",
    "\n",
    "old_list = list\n",
    "print \"The Unsorted List elements are: \", old_list\n",
    "new_list = []\n",
    "\n",
    "while list:\n",
    "    temp = list[0]  # arbitrary number in list \n",
    "    for x in list: \n",
    "        if x < temp:\n",
    "            temp = x\n",
    "    new_list.append(temp)\n",
    "    list.remove(temp)    \n",
    "\n",
    "print \"The Sorted List elements are: \", new_list"
   ]
  },
  {
   "cell_type": "code",
   "execution_count": 32,
   "metadata": {
    "collapsed": false
   },
   "outputs": [
    {
     "name": "stdout",
     "output_type": "stream",
     "text": [
      "[1, 2, 3, 4, 5]\n"
     ]
    }
   ],
   "source": [
    "# Another way od doing the same found online\n",
    "a = [3, 1, 5, 2, 4]\n",
    "\n",
    "for i in a[1:]:\n",
    "    j = a.index(i)\n",
    "    while j > 0 and a[j-1] > a[j]:\n",
    "        a[j], a[j-1] = a[j-1], a[j]\n",
    "        j = j - 1\n",
    "print a"
   ]
  },
  {
   "cell_type": "markdown",
   "metadata": {},
   "source": [
    "Both the solutions are found in [this link](http://stackoverflow.com/questions/11964450/python-order-a-list-of-numbers-without-built-in-sort-min-max-function). Finally, the point I should keep in mind is, I couldn't do it on my own. But I certainly understood what these codes mean, though. Not happy! :-("
   ]
  },
  {
   "cell_type": "markdown",
   "metadata": {},
   "source": [
    "## Exercise-2: Matrix Addition"
   ]
  },
  {
   "cell_type": "markdown",
   "metadata": {},
   "source": [
    "As the next exercise, add two matrices. Below is the logic. User gives the matrix dimensions, and also the matrix elements. \n",
    "\n",
    "```\n",
    "Enter the matrix range: Enter one value\n",
    "                        Enter another value\n",
    "The entered the range is: print the NxM\n",
    "Enter the values for your first matrix: Enter the 1st value\n",
    "                                        Enter the 2nd value\n",
    "                                        Enter the 3rd value\n",
    "                                        Enter the 4th value\n",
    "                                        Enter the 5th value\n",
    "                                        Enter the 6th value\n",
    "Your matrix is: print it like a matrix, not like a list\n",
    "Enter the values for your second matrix: Enter the 1st value\n",
    "                                        Enter the 2nd value\n",
    "                                        Enter the 3rd value\n",
    "                                        Enter the 4th value\n",
    "                                        Enter the 5th value\n",
    "                                        Enter the 6th value\n",
    "Your matrix is: print it like a matrix, not like a list\n",
    "Print Matrix1 + Matrix2 = Output Matrix (print them like matrices, not lists)\n",
    "```"
   ]
  },
  {
   "cell_type": "code",
   "execution_count": 1,
   "metadata": {
    "collapsed": true
   },
   "outputs": [],
   "source": [
    "import numpy as np"
   ]
  },
  {
   "cell_type": "code",
   "execution_count": 2,
   "metadata": {
    "collapsed": false
   },
   "outputs": [
    {
     "name": "stdout",
     "output_type": "stream",
     "text": [
      "[1 2 3]\n",
      "[[1 2 3]\n",
      " [4 5 6]]\n"
     ]
    }
   ],
   "source": [
    "a = np.array([1, 2, 3])\n",
    "print a\n",
    "b = np.array([[1,2,3],[4,5,6]])\n",
    "print b"
   ]
  },
  {
   "cell_type": "code",
   "execution_count": 14,
   "metadata": {
    "collapsed": false
   },
   "outputs": [
    {
     "name": "stdout",
     "output_type": "stream",
     "text": [
      "Matrix Addition\n",
      "===============\n",
      "We need a few things from you. \n",
      "You will give us the dimensions as well as the values for both matrices.\n",
      "\n",
      "Matrix-1:\n",
      "---------\n",
      "How many rows you would like in your first matrix? 2\n",
      "How many columns you would like in your first matrix? 2\n",
      "The matrix you have chosen is,  2 x 2 matrix with  2 rows and  2 columns, and totally  4 elements inside the matrix.\n",
      "Enter your Value-1\n",
      "This is your Value- 0\n",
      "Enter your Value-4\n",
      "This is your Value- 1\n",
      "Enter your Value-8\n",
      "This is your Value- 2\n",
      "Enter your Value-2\n",
      "This is your Value- 3\n",
      "This is your first matrix:  [[1 4]\n",
      " [8 2]]\n",
      "Matrix-2:\n",
      "---------\n",
      "How many rows you would like in your second matrix? 2\n",
      "How many columns you would like in your second matrix? 2\n",
      "The matrix you have chosen is,  2 x 2 matrix with  2 rows and  2 columns, and totally  4 elements inside the matrix.\n",
      "Enter your Value-3\n",
      "This is your Value- 0\n",
      "Enter your Value-5\n",
      "This is your Value- 1\n",
      "Enter your Value-9\n",
      "This is your Value- 2\n",
      "Enter your Value-8\n",
      "This is your Value- 3\n",
      "This is your first matrix:  [[3 5]\n",
      " [9 8]]\n",
      "Adding your matrices ...\n",
      "------------------------\n",
      "Matrix-1 \n",
      "[[1 4]\n",
      " [8 2]] \n",
      "+ \n",
      "Matrix-2 \n",
      "[[3 5]\n",
      " [9 8]] \n",
      "= \n",
      "Resultant Matrix  [[ 4  9]\n",
      " [17 10]]\n"
     ]
    }
   ],
   "source": [
    "# Somehow, this one was a bit easier than the first exercise. This is done!\n",
    "\n",
    "print \"Matrix Addition\\n===============\"\n",
    "print \"We need a few things from you. \\nYou will give us the dimensions as well as the values for both matrices.\\n\"\n",
    "#---------------------------------------------------------------#\n",
    "print \"Matrix-1:\\n---------\"\n",
    "\n",
    "rows1 = input(\"How many rows you would like in your first matrix? \")\n",
    "cols1 = input(\"How many columns you would like in your first matrix? \")\n",
    "values1 = rows1 * cols1\n",
    "print \"The matrix you have chosen is, \", rows1, \"x\", cols1, \"matrix with \", rows1, \"rows and \", cols1, \"columns, and totally \", values1, \"elements inside the matrix.\"\n",
    "list1 = []\n",
    "for i in range(values1):\n",
    "    x = input(\"Enter your Value-\")\n",
    "    print \"This is your Value-\", i\n",
    "    list1.append(x)\n",
    "\n",
    "matrix1 = np.asarray(list1)\n",
    "matrix1 = matrix1.reshape(rows1, cols1)\n",
    "print \"This is your first matrix: \\n\", matrix1\n",
    "#---------------------------------------------------------------#\n",
    "print \"Matrix-2:\\n---------\"\n",
    "\n",
    "rows2 = input(\"How many rows you would like in your second matrix? \")\n",
    "cols2 = input(\"How many columns you would like in your second matrix? \")\n",
    "values2 = rows2 * cols2\n",
    "print \"The matrix you have chosen is, \", rows2, \"x\", cols2, \"matrix with \", rows2, \"rows and \", cols2, \"columns, and totally \", values2, \"elements inside the matrix.\"\n",
    "list2 = []\n",
    "for i in range(values2):\n",
    "    x = input(\"Enter your Value-\")\n",
    "    print \"This is your Value-\", i\n",
    "    list2.append(x)\n",
    "\n",
    "matrix2 = np.asarray(list2)\n",
    "matrix2 = matrix2.reshape(rows2, cols2)\n",
    "print \"This is your second matrix: \\n\", matrix2\n",
    "#---------------------------------------------------------------#\n",
    "print \"Adding your matrices ...\\n------------------------\"\n",
    "resultant = matrix1 + matrix2\n",
    "print \"Matrix-1 \\n\", matrix1, \"\\n+ \\nMatrix-2 \\n\", matrix2, \"\\n= \\nResultant Matrix \\n\", resultant"
   ]
  },
  {
   "cell_type": "markdown",
   "metadata": {},
   "source": []
  }
 ],
 "metadata": {
  "kernelspec": {
   "display_name": "Python 2",
   "language": "python",
   "name": "python2"
  },
  "language_info": {
   "codemirror_mode": {
    "name": "ipython",
    "version": 2
   },
   "file_extension": ".py",
   "mimetype": "text/x-python",
   "name": "python",
   "nbconvert_exporter": "python",
   "pygments_lexer": "ipython2",
   "version": "2.7.11"
  }
 },
 "nbformat": 4,
 "nbformat_minor": 0
}
